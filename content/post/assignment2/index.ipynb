{
 "cells": [
  {
   "cell_type": "markdown",
   "metadata": {},
   "source": [
    "#  Assignment #2  :\n",
    " The goal of this assignment is to learn about the kNN.    Implementation of kNN Algorithm using Python."
   ]
  },
  {
   "cell_type": "markdown",
   "metadata": {},
   "source": [
    "\n",
    "## (a) Divide the dataset as development and test. Make sure randomly divide the dataset.\n"
   ]
  },
  {
   "cell_type": "code",
   "execution_count": 1,
   "metadata": {},
   "outputs": [],
   "source": [
    "import pandas as pd\n",
    "import numpy as np\n",
    "import math\n",
    "import collections\n",
    "from collections import Counter\n",
    "import matplotlib.pyplot as plt\n",
    "from sklearn.utils import shuffle"
   ]
  },
  {
   "cell_type": "code",
   "execution_count": 2,
   "metadata": {},
   "outputs": [
    {
     "data": {
      "text/html": [
       "<div>\n",
       "<style scoped>\n",
       "    .dataframe tbody tr th:only-of-type {\n",
       "        vertical-align: middle;\n",
       "    }\n",
       "\n",
       "    .dataframe tbody tr th {\n",
       "        vertical-align: top;\n",
       "    }\n",
       "\n",
       "    .dataframe thead th {\n",
       "        text-align: right;\n",
       "    }\n",
       "</style>\n",
       "<table border=\"1\" class=\"dataframe\">\n",
       "  <thead>\n",
       "    <tr style=\"text-align: right;\">\n",
       "      <th></th>\n",
       "      <th>Sepal_Length</th>\n",
       "      <th>Sepal_Width</th>\n",
       "      <th>Petal_Length</th>\n",
       "      <th>Petal_Width</th>\n",
       "      <th>Type</th>\n",
       "    </tr>\n",
       "  </thead>\n",
       "  <tbody>\n",
       "    <tr>\n",
       "      <td>0</td>\n",
       "      <td>5.1</td>\n",
       "      <td>3.5</td>\n",
       "      <td>1.4</td>\n",
       "      <td>0.2</td>\n",
       "      <td>Iris-setosa</td>\n",
       "    </tr>\n",
       "    <tr>\n",
       "      <td>1</td>\n",
       "      <td>4.9</td>\n",
       "      <td>3.0</td>\n",
       "      <td>1.4</td>\n",
       "      <td>0.2</td>\n",
       "      <td>Iris-setosa</td>\n",
       "    </tr>\n",
       "    <tr>\n",
       "      <td>2</td>\n",
       "      <td>4.7</td>\n",
       "      <td>3.2</td>\n",
       "      <td>1.3</td>\n",
       "      <td>0.2</td>\n",
       "      <td>Iris-setosa</td>\n",
       "    </tr>\n",
       "    <tr>\n",
       "      <td>3</td>\n",
       "      <td>4.6</td>\n",
       "      <td>3.1</td>\n",
       "      <td>1.5</td>\n",
       "      <td>0.2</td>\n",
       "      <td>Iris-setosa</td>\n",
       "    </tr>\n",
       "    <tr>\n",
       "      <td>4</td>\n",
       "      <td>5.0</td>\n",
       "      <td>3.6</td>\n",
       "      <td>1.4</td>\n",
       "      <td>0.2</td>\n",
       "      <td>Iris-setosa</td>\n",
       "    </tr>\n",
       "  </tbody>\n",
       "</table>\n",
       "</div>"
      ],
      "text/plain": [
       "   Sepal_Length  Sepal_Width  Petal_Length  Petal_Width         Type\n",
       "0           5.1          3.5           1.4          0.2  Iris-setosa\n",
       "1           4.9          3.0           1.4          0.2  Iris-setosa\n",
       "2           4.7          3.2           1.3          0.2  Iris-setosa\n",
       "3           4.6          3.1           1.5          0.2  Iris-setosa\n",
       "4           5.0          3.6           1.4          0.2  Iris-setosa"
      ]
     },
     "execution_count": 2,
     "metadata": {},
     "output_type": "execute_result"
    }
   ],
   "source": [
    "# import data IRIS dataset. https://archive.ics.uci.edu/ml/datasets/Iris \n",
    "iris = pd.read_csv(\"/Users/mamo/Downloads/Iris.csv\")     #, header= None, index_col=False) \n",
    "iris.head()"
   ]
  },
  {
   "cell_type": "markdown",
   "metadata": {},
   "source": [
    "### To randomly divide the dataset "
   ]
  },
  {
   "cell_type": "code",
   "execution_count": 3,
   "metadata": {},
   "outputs": [
    {
     "data": {
      "text/html": [
       "<div>\n",
       "<style scoped>\n",
       "    .dataframe tbody tr th:only-of-type {\n",
       "        vertical-align: middle;\n",
       "    }\n",
       "\n",
       "    .dataframe tbody tr th {\n",
       "        vertical-align: top;\n",
       "    }\n",
       "\n",
       "    .dataframe thead th {\n",
       "        text-align: right;\n",
       "    }\n",
       "</style>\n",
       "<table border=\"1\" class=\"dataframe\">\n",
       "  <thead>\n",
       "    <tr style=\"text-align: right;\">\n",
       "      <th></th>\n",
       "      <th>Sepal_Length</th>\n",
       "      <th>Sepal_Width</th>\n",
       "      <th>Petal_Length</th>\n",
       "      <th>Petal_Width</th>\n",
       "      <th>Type</th>\n",
       "    </tr>\n",
       "  </thead>\n",
       "  <tbody>\n",
       "    <tr>\n",
       "      <td>114</td>\n",
       "      <td>5.8</td>\n",
       "      <td>2.8</td>\n",
       "      <td>5.1</td>\n",
       "      <td>2.4</td>\n",
       "      <td>Iris-virginica</td>\n",
       "    </tr>\n",
       "    <tr>\n",
       "      <td>62</td>\n",
       "      <td>6.0</td>\n",
       "      <td>2.2</td>\n",
       "      <td>4.0</td>\n",
       "      <td>1.0</td>\n",
       "      <td>Iris-versicolor</td>\n",
       "    </tr>\n",
       "    <tr>\n",
       "      <td>33</td>\n",
       "      <td>5.5</td>\n",
       "      <td>4.2</td>\n",
       "      <td>1.4</td>\n",
       "      <td>0.2</td>\n",
       "      <td>Iris-setosa</td>\n",
       "    </tr>\n",
       "    <tr>\n",
       "      <td>107</td>\n",
       "      <td>7.3</td>\n",
       "      <td>2.9</td>\n",
       "      <td>6.3</td>\n",
       "      <td>1.8</td>\n",
       "      <td>Iris-virginica</td>\n",
       "    </tr>\n",
       "    <tr>\n",
       "      <td>7</td>\n",
       "      <td>5.0</td>\n",
       "      <td>3.4</td>\n",
       "      <td>1.5</td>\n",
       "      <td>0.2</td>\n",
       "      <td>Iris-setosa</td>\n",
       "    </tr>\n",
       "  </tbody>\n",
       "</table>\n",
       "</div>"
      ],
      "text/plain": [
       "     Sepal_Length  Sepal_Width  Petal_Length  Petal_Width             Type\n",
       "114           5.8          2.8           5.1          2.4   Iris-virginica\n",
       "62            6.0          2.2           4.0          1.0  Iris-versicolor\n",
       "33            5.5          4.2           1.4          0.2      Iris-setosa\n",
       "107           7.3          2.9           6.3          1.8   Iris-virginica\n",
       "7             5.0          3.4           1.5          0.2      Iris-setosa"
      ]
     },
     "execution_count": 3,
     "metadata": {},
     "output_type": "execute_result"
    }
   ],
   "source": [
    "iris = shuffle(iris, random_state=0)\n",
    "iris.head()"
   ]
  },
  {
   "cell_type": "markdown",
   "metadata": {},
   "source": [
    "### Divide iris data to 112 points for development set and 38 points for test set  following the ratio 75:25"
   ]
  },
  {
   "cell_type": "code",
   "execution_count": 4,
   "metadata": {},
   "outputs": [],
   "source": [
    "iris_dev, iris_test= iris[:112], iris[112:]"
   ]
  },
  {
   "cell_type": "markdown",
   "metadata": {},
   "source": [
    "## (b) implement kNN using the following hyper-parameters\n"
   ]
  },
  {
   "cell_type": "markdown",
   "metadata": {},
   "source": [
    "## distance metric\n",
    "* euclidean distance\n",
    "* normalized euclidean distance\n",
    "* cosine similarity\n"
   ]
  },
  {
   "cell_type": "code",
   "execution_count": 5,
   "metadata": {},
   "outputs": [],
   "source": [
    "\n",
    "def euclidean_distance(x, y):          # euclidean distance\n",
    "    distance = 0.0\n",
    "    for i in range(len(x)):\n",
    "        distance += (x[i] - y[i])**2\n",
    "    return np.sqrt(distance)\n",
    "\n",
    "\n",
    "\n",
    "def normalized_euclidean_distance(x, y):   #normalized euclidean distance\n",
    "    distance = 0.0\n",
    "    for i in range(len(x)):\n",
    "        avg = (x[i]-y[i])/2\n",
    "        distance += ((x[i]-y[i])/np.sqrt( (x[i] - avg) ** 2 + (y[i] - avg) ** 2 ) ) ** 2\n",
    "    return np.sqrt(distance)\n",
    "\n",
    "\n",
    "\n",
    "def cosine_similarityi(x, y):       # cosine similarity\n",
    "    dot =0.0\n",
    "    sum_x =0.0\n",
    "    sum_y =0.0 \n",
    "    for i in range(len(x)):   \n",
    "        dot += x[i]* y[i]\n",
    "        sum_x += x[i]**2\n",
    "        sum_y += y[i]**2\n",
    "        cos = dot / (np.sqrt(sum_x) * np.sqrt(sum_y))\n",
    "    return (1- cos)   \n"
   ]
  },
  {
   "cell_type": "code",
   "execution_count": 6,
   "metadata": {},
   "outputs": [],
   "source": [
    "# Knn using euclidean_distance \n",
    "\n",
    "def K_nearest_neighbor_E_D(predict, data, features, target, k):  \n",
    "    row = data[features].apply(list,axis=1)                       # for each row convert data frame to a 4-dimensional point\n",
    "    distances = row.apply(lambda x: euclidean_distance(predict,x)) # calculate distance for the point with each row\n",
    "    neighbors = list(distances.sort_values()[:k].index)           # sort all the calculated distances, and take the the k-smallest distances \n",
    "    neighbors_votes = data.loc[neighbors, target]                 # indicate the take the the k-smallest distances class votes (labels)\n",
    "    vote = collections.Counter(neighbors_votes).most_common()[0][0]  # take the votes from the k nearest neighbors  \n",
    "    return vote                                                      # return (the most common) the first vote as the class label \n",
    "\n",
    "\n",
    "\n",
    "# Knn using normalized_euclidean_distance\n",
    "\n",
    "def K_nearest_neighbor_N_E_D(predict, data, features, target, k):    \n",
    "    row = data[features].apply(list,axis=1)                       \n",
    "    distances = row.apply(lambda x: normalized_euclidean_distance(predict,x)) \n",
    "    neighbors = list(distances.sort_values()[:k].index)           \n",
    "    neighbors_votes = data.loc[neighbors, target]                 \n",
    "    vote = collections.Counter(neighbors_votes).most_common()[0][0]  \n",
    "    return vote \n",
    "\n",
    "\n",
    "\n",
    "# Knn using cosine similarity\n",
    "\n",
    "def K_nearest_neighbor_C_S(predict, data, features, target, k):    \n",
    "    row = data[features].apply(list,axis=1)                       \n",
    "    distances = row.apply(lambda x: cosine_similarityi(predict,x)) \n",
    "    neighbors = list(distances.sort_values()[:k].index)           \n",
    "    neighbors_votes = data.loc[neighbors, target]                 \n",
    "    vote = collections.Counter(neighbors_votes).most_common()[0][0]  \n",
    "    return vote "
   ]
  },
  {
   "cell_type": "markdown",
   "metadata": {},
   "source": [
    "## number of neighbor K \n",
    "* 1,3,5,7\n",
    "\n"
   ]
  },
  {
   "cell_type": "code",
   "execution_count": 21,
   "metadata": {},
   "outputs": [],
   "source": [
    "k= [1,3,5,7] \n",
    "predict = [7.3, 2.9, 6.3, 1.8]\n",
    "X = iris.columns[0:4]   #features  \"Sepal_Length, Sepal_Width, Petal_Length, Petal_Width\"\n",
    "y = iris.columns[4]      #target  \"Type\""
   ]
  },
  {
   "cell_type": "markdown",
   "metadata": {},
   "source": [
    "## (c) Using the development dataset,\n",
    " * Calculate accuracy by iterating all of the development data point\n",
    "* Find optimal hyperparameters\n",
    "* * Draw bar charts for accuracy\n"
   ]
  },
  {
   "cell_type": "code",
   "execution_count": 22,
   "metadata": {},
   "outputs": [],
   "source": [
    "#iris_dev\n",
    "\n",
    "# Knn using euclidean_distance \n",
    "def all_predictions_E_D(k):\n",
    "    predictions = []                        \n",
    "    for row in iris.itertuples(index=False):   # for each row in dataset iterate the values in a tuple\n",
    "        dict_row = row._asdict()               \n",
    "        xi = []\n",
    "        for column in X.values:                                     \n",
    "            xi.append(dict_row[column])                            # iterate through each feature\n",
    "            result = K_nearest_neighbor_E_D(xi,iris_dev, X, y, k)  # predict each data point with the rest of the dataset \n",
    "        predictions.append(result)                                 # add the result to the prediction list\n",
    "    return predictions\n",
    "\n",
    "\n",
    "# Knn using normalized_euclidean_distance\n",
    "def all_predictions_N_E_D(k):\n",
    "    predictions = []                        \n",
    "    for row in iris.itertuples(index=False):   \n",
    "        dict_row = row._asdict()               \n",
    "        xi = []\n",
    "        for column in X.values:                \n",
    "            xi.append(dict_row[column])     \n",
    "            result = K_nearest_neighbor_N_E_D(xi,iris_dev, X, y, k)\n",
    "        predictions.append(result)\n",
    "    return predictions\n",
    "\n",
    "\n",
    "# Knn using cosine similarity\n",
    "def all_predictions_C_S(k):\n",
    "    predictions = []                        \n",
    "    for row in iris.itertuples(index=False):   \n",
    "        dict_row = row._asdict()               \n",
    "        xi = []\n",
    "        for column in X.values:                \n",
    "            xi.append(dict_row[column])     \n",
    "            result = K_nearest_neighbor_C_S(xi,iris_dev, X, y, k)\n",
    "        predictions.append(result)\n",
    "    return predictions"
   ]
  },
  {
   "cell_type": "code",
   "execution_count": 23,
   "metadata": {},
   "outputs": [
    {
     "name": "stdout",
     "output_type": "stream",
     "text": [
      "euclidean_distance: \n",
      "\n",
      "k= 1 \t 98.66666666666667 %\n",
      "k= 3 \t 96.66666666666667 %\n",
      "k= 5 \t 97.33333333333334 %\n",
      "k= 7 \t 97.33333333333334 %\n",
      "\n",
      "\n",
      "normalized euclidean distance: \n",
      "\n",
      "k= 1 \t 98.0 %\n",
      "k= 3 \t 96.66666666666667 %\n",
      "k= 5 \t 96.66666666666667 %\n",
      "k= 7 \t 97.33333333333334 %\n",
      "\n",
      "\n",
      "cosine similarity: \n",
      "\n",
      "k= 1 \t 98.0 %\n",
      "k= 3 \t 98.0 %\n",
      "k= 5 \t 98.0 %\n",
      "k= 7 \t 98.0 %\n"
     ]
    }
   ],
   "source": [
    "# Calculate the accuracy \n",
    "\n",
    "def accuracy_E_D(k):\n",
    "    predictions = all_predictions_E_D(k)         \n",
    "    correct = iris.loc[:,'Type'] == predictions   # count all the correct predictions by compare it with the actual label\n",
    "    accuracy = (sum(correct)/len(predictions))*100\n",
    "    return accuracy\n",
    "\n",
    "\n",
    "\n",
    "print(\"euclidean_distance: \\n\") \n",
    "\n",
    "K1 = np.array([])\n",
    "for i in range(len(k)): \n",
    "    print(\"k=\",k[i],\"\\t\",accuracy_E_D(k[i]) , \"%\")\n",
    "    K1= np.append(K1, accuracy_E_D(k[i]))\n",
    "print(\"\\n\")    \n",
    "    \n",
    "    \n",
    "    \n",
    "def accuracy_N_E_D(k):\n",
    "    predictions = all_predictions_N_E_D(k)         \n",
    "    correct = iris.loc[:,'Type'] == predictions   \n",
    "    accuracy = (sum(correct)/len(predictions))*100\n",
    "    return accuracy\n",
    "\n",
    "\n",
    "\n",
    "print(\"normalized euclidean distance: \\n\") \n",
    "\n",
    "K2 =np.array([])\n",
    "for i in range(len(k)): \n",
    "    print(\"k=\",k[i],\"\\t\",accuracy_N_E_D(k[i]) , \"%\") \n",
    "    K2= np.append(K2,accuracy_N_E_D(k[i]))\n",
    "print(\"\\n\")    \n",
    "    \n",
    "    \n",
    "\n",
    "    \n",
    "def accuracy_C_S(k):\n",
    "    predictions = all_predictions_C_S(k)         \n",
    "    correct = iris.loc[:,'Type'] == predictions   \n",
    "    accuracy = (sum(correct)/len(predictions))*100\n",
    "    return accuracy\n",
    "\n",
    "\n",
    "print(\"cosine similarity: \\n\") \n",
    "\n",
    "K3 =np.array([])\n",
    "for i in range(len(k)): \n",
    "    print(\"k=\",k[i],\"\\t\",accuracy_C_S(k[i]) , \"%\") \n",
    "    K3= np.append(K3,accuracy_C_S(k[i]))"
   ]
  },
  {
   "cell_type": "code",
   "execution_count": 10,
   "metadata": {},
   "outputs": [
    {
     "data": {
      "text/plain": [
       "<matplotlib.legend.Legend at 0x11c391490>"
      ]
     },
     "execution_count": 10,
     "metadata": {},
     "output_type": "execute_result"
    },
    {
     "data": {
      "image/png": "[encoded data removed]",
      "text/plain": [
       "<Figure size 576x432 with 1 Axes>"
      ]
     },
     "metadata": {
      "needs_background": "light"
     },
     "output_type": "display_data"
    }
   ],
   "source": [
    "import numpy as np\n",
    "import matplotlib.pyplot as plt\n",
    "\n",
    "labels = ['euclidean_distance', 'normalized_euclidean_distance', 'cosine_similarity']\n",
    "\n",
    "k1=[K1[0],K2[0],K3[0]]\n",
    "k3=[K1[1],K2[1],K3[1]]\n",
    "k5=[K1[2],K2[2],K3[2]]\n",
    "k7=[K1[3],K2[3],K3[3]]\n",
    "\n",
    "data = [k1,k3,k5, k7]\n",
    "\n",
    "X = np.arange(3)\n",
    "fig = plt.figure(figsize=(8, 6))             \n",
    "ax = plt.subplot(111)\n",
    "\n",
    "ax.bar(X - 0.15, data[0], width = 0.25 ,label='k=1')\n",
    "ax.bar(X + 0.00, data[1], width = 0.25 ,label='k=3')\n",
    "ax.bar(X + 0.25, data[2], width = 0.25 ,label='k=5')\n",
    "ax.bar(X + 0.50, data[3], width = 0.25 ,label='k=7')\n",
    "\n",
    "\n",
    "\n",
    "ax.set_ylabel('Accuracy')\n",
    "ax.set_title('Group by distance metric')\n",
    "ax.set_xticks(X)\n",
    "ax.set_xticklabels(labels)\n",
    "ax.legend(loc=\"upper left\")\n",
    "\n"
   ]
  },
  {
   "cell_type": "code",
   "execution_count": 11,
   "metadata": {},
   "outputs": [
    {
     "data": {
      "text/plain": [
       "<matplotlib.legend.Legend at 0x11c55de50>"
      ]
     },
     "execution_count": 11,
     "metadata": {},
     "output_type": "execute_result"
    },
    {
     "data": {
      "image/png": "[encoded data removed]",
      "text/plain": [
       "<Figure size 576x432 with 1 Axes>"
      ]
     },
     "metadata": {
      "needs_background": "light"
     },
     "output_type": "display_data"
    }
   ],
   "source": [
    "import numpy as np\n",
    "import matplotlib.pyplot as plt\n",
    "\n",
    "\n",
    "labels = ['k=1', 'k=3', 'k=5', 'k=7']\n",
    "\n",
    "X = np.arange(4)\n",
    "fig = plt.figure(figsize=(8, 6))           \n",
    "ax = plt.subplot(111)\n",
    "ax.bar(X - 0.25, K1, width = 0.25 ,label='euclidean_distance')\n",
    "ax.bar(X + 0.00, K2, width = 0.25 ,label='normalized_euclidean_distance')\n",
    "ax.bar(X + 0.25, K3, width = 0.25 ,label='cosine_similarity')\n",
    "\n",
    "\n",
    "ax.set_ylabel('Accuracy')\n",
    "ax.set_title('Group by Values of K')\n",
    "ax.set_xticks(X)\n",
    "ax.set_xticklabels(labels)\n",
    "ax.legend(loc=\"upper left\")\n",
    "\n",
    "\n"
   ]
  },
  {
   "cell_type": "markdown",
   "metadata": {},
   "source": [
    "## (d) Using the test dataset\n",
    "* Use the optimal hyper-parameters you found in the step c, and use it to calculate the final accuracy.  \n",
    "\n",
    "\n",
    "### In our case the optimal hyper-parameters we picked for this dataset using Knn is k=7 and cosine similarity metric with accuracy equal to 98%"
   ]
  },
  {
   "cell_type": "code",
   "execution_count": 19,
   "metadata": {},
   "outputs": [
    {
     "name": "stdout",
     "output_type": "stream",
     "text": [
      "test accuracy: 98.0\n"
     ]
    }
   ],
   "source": [
    "k= 7\n",
    "K_nearest_neighbor_C_S(predict,iris_test, X, y, k)\n",
    "all_predictions_C_S(k)\n",
    "final_accuracy = accuracy_C_S(k)\n",
    "print(\"test accuracy:\", final_accuracy)"
   ]
  },
  {
   "cell_type": "markdown",
   "metadata": {},
   "source": [
    "This dataset with multiple hyper-parameters give a very similar accuracy in this case we picked the value of k= 7 which gave us accuracy = 97% using euclidean_distance and normalized euclidean distance and 98% using cosine. \n",
    "Also we picked cosine similarity. "
   ]
  },
  {
   "cell_type": "markdown",
   "metadata": {},
   "source": [
    " References: \n",
    "  *  * arxiv.org/pdf/1708.04321.pdf\n",
    "  *  * www.kaggle.com/ptdrow/k-nearest-neighbors-classifier-from-scratch/data\n",
    "  *  * www.youtube.com/watch?v=GWHG3cS2PKc"
   ]
  }
 ],
 "metadata": {
  "kernelspec": {
   "display_name": "Python 3",
   "language": "python",
   "name": "python3"
  },
  "language_info": {
   "codemirror_mode": {
    "name": "ipython",
    "version": 3
   },
   "file_extension": ".py",
   "mimetype": "text/x-python",
   "name": "python",
   "nbconvert_exporter": "python",
   "pygments_lexer": "ipython3",
   "version": "3.7.4"
  }
 },
 "nbformat": 4,
 "nbformat_minor": 2
}
